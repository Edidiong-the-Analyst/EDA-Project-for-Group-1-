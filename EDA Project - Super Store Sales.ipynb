{
 "cells": [
  {
   "cell_type": "markdown",
   "id": "e4c07b5c",
   "metadata": {},
   "source": [
    "## Enny's Super Store EDA Project\n",
    "\n",
    "#### by Group 1\n"
   ]
  },
  {
   "cell_type": "markdown",
   "id": "a3f42b19",
   "metadata": {},
   "source": [
    "#### The Problem Statement\n",
    " “How to Increase Business Revenue of Enny’s Super Stores?\"\n",
    " \n",
    " #### Project Description\n",
    "Enny’s Super Stores operating within the US has given us (GROUP 1) the task to identify what works best for them in terms of sales and making profit. Using exploratory data analysis (EDA) we will help them identify:\n",
    "\n",
    "1. Their most and least profitable product categories\n",
    "2. Segment analysis of sales and profit\n",
    "3. Geographical analysis of sales and profit.\n",
    "\n",
    "Given the insights gained from the EDA, the superstore can choose to remove non-profitable products or invest in marketing efforts for products, segments and geographical areas that are driving their profit.\n"
   ]
  },
  {
   "cell_type": "code",
   "execution_count": 28,
   "id": "ee8b53ef",
   "metadata": {},
   "outputs": [],
   "source": [
    "#importation of libaries to work with\n",
    "import pandas as pd\n",
    "import numpy as np\n",
    "\n",
    "#visualization libraries\n",
    "import matplotlib.pyplot as plt\n",
    "%matplotlib inline\n",
    "import seaborn as sns"
   ]
  },
  {
   "cell_type": "markdown",
   "id": "cd757482",
   "metadata": {},
   "source": [
    "## Data Inspection"
   ]
  },
  {
   "cell_type": "code",
   "execution_count": 2,
   "id": "086384cb",
   "metadata": {},
   "outputs": [],
   "source": [
    "#load data file\n",
    "super_store = pd.read_csv(r'Super_Store_Data.csv')"
   ]
  },
  {
   "cell_type": "code",
   "execution_count": 3,
   "id": "cc0c24a4",
   "metadata": {},
   "outputs": [
    {
     "data": {
      "text/html": [
       "<div>\n",
       "<style scoped>\n",
       "    .dataframe tbody tr th:only-of-type {\n",
       "        vertical-align: middle;\n",
       "    }\n",
       "\n",
       "    .dataframe tbody tr th {\n",
       "        vertical-align: top;\n",
       "    }\n",
       "\n",
       "    .dataframe thead th {\n",
       "        text-align: right;\n",
       "    }\n",
       "</style>\n",
       "<table border=\"1\" class=\"dataframe\">\n",
       "  <thead>\n",
       "    <tr style=\"text-align: right;\">\n",
       "      <th></th>\n",
       "      <th>Row ID</th>\n",
       "      <th>Order ID</th>\n",
       "      <th>Order Date</th>\n",
       "      <th>Ship Date</th>\n",
       "      <th>Ship Mode</th>\n",
       "      <th>Customer ID</th>\n",
       "      <th>Customer Name</th>\n",
       "      <th>Segment</th>\n",
       "      <th>Country</th>\n",
       "      <th>City</th>\n",
       "      <th>...</th>\n",
       "      <th>Postal Code</th>\n",
       "      <th>Region</th>\n",
       "      <th>Product ID</th>\n",
       "      <th>Category</th>\n",
       "      <th>Sub-Category</th>\n",
       "      <th>Product Name</th>\n",
       "      <th>Sales</th>\n",
       "      <th>Quantity</th>\n",
       "      <th>Discount</th>\n",
       "      <th>Profit</th>\n",
       "    </tr>\n",
       "  </thead>\n",
       "  <tbody>\n",
       "    <tr>\n",
       "      <th>0</th>\n",
       "      <td>1</td>\n",
       "      <td>CA-2016-152156</td>\n",
       "      <td>11/8/2016</td>\n",
       "      <td>11/11/2016</td>\n",
       "      <td>Second Class</td>\n",
       "      <td>CG-12520</td>\n",
       "      <td>Claire Gute</td>\n",
       "      <td>Consumer</td>\n",
       "      <td>United States</td>\n",
       "      <td>Henderson</td>\n",
       "      <td>...</td>\n",
       "      <td>42420</td>\n",
       "      <td>South</td>\n",
       "      <td>FUR-BO-10001798</td>\n",
       "      <td>Furniture</td>\n",
       "      <td>Bookcases</td>\n",
       "      <td>Bush Somerset Collection Bookcase</td>\n",
       "      <td>261.96</td>\n",
       "      <td>2</td>\n",
       "      <td>0.0</td>\n",
       "      <td>41.9136</td>\n",
       "    </tr>\n",
       "    <tr>\n",
       "      <th>1</th>\n",
       "      <td>2</td>\n",
       "      <td>CA-2016-152156</td>\n",
       "      <td>11/8/2016</td>\n",
       "      <td>11/11/2016</td>\n",
       "      <td>Second Class</td>\n",
       "      <td>CG-12520</td>\n",
       "      <td>Claire Gute</td>\n",
       "      <td>Consumer</td>\n",
       "      <td>United States</td>\n",
       "      <td>Henderson</td>\n",
       "      <td>...</td>\n",
       "      <td>42420</td>\n",
       "      <td>South</td>\n",
       "      <td>FUR-CH-10000454</td>\n",
       "      <td>Furniture</td>\n",
       "      <td>Chairs</td>\n",
       "      <td>Hon Deluxe Fabric Upholstered Stacking Chairs,...</td>\n",
       "      <td>731.94</td>\n",
       "      <td>3</td>\n",
       "      <td>0.0</td>\n",
       "      <td>219.5820</td>\n",
       "    </tr>\n",
       "  </tbody>\n",
       "</table>\n",
       "<p>2 rows × 21 columns</p>\n",
       "</div>"
      ],
      "text/plain": [
       "   Row ID        Order ID Order Date   Ship Date     Ship Mode Customer ID  \\\n",
       "0       1  CA-2016-152156  11/8/2016  11/11/2016  Second Class    CG-12520   \n",
       "1       2  CA-2016-152156  11/8/2016  11/11/2016  Second Class    CG-12520   \n",
       "\n",
       "  Customer Name   Segment        Country       City  ... Postal Code  Region  \\\n",
       "0   Claire Gute  Consumer  United States  Henderson  ...       42420   South   \n",
       "1   Claire Gute  Consumer  United States  Henderson  ...       42420   South   \n",
       "\n",
       "        Product ID   Category Sub-Category  \\\n",
       "0  FUR-BO-10001798  Furniture    Bookcases   \n",
       "1  FUR-CH-10000454  Furniture       Chairs   \n",
       "\n",
       "                                        Product Name   Sales  Quantity  \\\n",
       "0                  Bush Somerset Collection Bookcase  261.96         2   \n",
       "1  Hon Deluxe Fabric Upholstered Stacking Chairs,...  731.94         3   \n",
       "\n",
       "   Discount    Profit  \n",
       "0       0.0   41.9136  \n",
       "1       0.0  219.5820  \n",
       "\n",
       "[2 rows x 21 columns]"
      ]
     },
     "execution_count": 3,
     "metadata": {},
     "output_type": "execute_result"
    }
   ],
   "source": [
    "#It is best practice to make a copy of the original Dataframe for reference purpose since changes will be made during cleaning.\n",
    "#the copied datafram will be used through out the EDA\n",
    "\n",
    "super_store1 = super_store.copy()\n",
    "super_store1.head(2)"
   ]
  },
  {
   "cell_type": "markdown",
   "id": "c5ad3745",
   "metadata": {},
   "source": [
    "#### Knowing the Data Set\n",
    "The data set for this project was obtained online from kaggle.\n",
    "\n",
    "It is an e-commerce data set of sales and shipping transactions between 2014 and 2017. It contains information such as Order Id, Order Date, Shipping date, Shipping mode, Customer name, Region, States, Sales, Quantity, Profit, etc.\n"
   ]
  },
  {
   "cell_type": "code",
   "execution_count": 123,
   "id": "6cd22719",
   "metadata": {
    "scrolled": true
   },
   "outputs": [
    {
     "name": "stdout",
     "output_type": "stream",
     "text": [
      "The data from this particular store spans over 1457 days with sales totaling at $2,297,201 and a profit of $286,397.\n",
      "There are 1862 unique articles in their inventory which are divided into 3 categories, all of which are being sold across 49 states in the US.\n"
     ]
    }
   ],
   "source": [
    "#Converting to date time\n",
    "super_store1[\"Order Date\"], super_store1[\"Ship Date\"] = pd.to_datetime(super_store1[\"Order Date\"]), pd.to_datetime(super_store1[\"Ship Date\"])\n",
    "\n",
    "print(f\"\"\"The data from this particular store spans over {(super_store1['Order Date'].max() - super_store1['Order Date'].min()).days} days with sales totaling at ${super_store1['Sales'].sum() :,.0f} and a profit of ${super_store1['Profit'].sum() :,.0f}.\n",
    "There are {super_store1['Product ID'].nunique()} unique articles in their inventory which are divided into {super_store1['Category'].nunique()} categories, all of which are being sold across {super_store1[\"State\"].nunique()} states in the US.\"\"\")"
   ]
  },
  {
   "cell_type": "markdown",
   "id": "962e92e5",
   "metadata": {},
   "source": [
    "#### MetaData\n",
    "\n",
    "Row ID => Unique ID for each row.\n",
    "\n",
    "Order ID => Unique Order ID for each Customer.\n",
    "\n",
    "Order Date => Order Date of the product.\n",
    "\n",
    "Ship Date => Shipping Date of the Product.\n",
    "\n",
    "Ship Mode=> Shipping Mode specified by the Customer.\n",
    "\n",
    "Customer ID => Unique ID to identify each Customer.\n",
    "\n",
    "Customer Name => Name of the Customer.\n",
    "\n",
    "Segment => The segment where the Customer belongs.\n",
    "\n",
    "Country => Country of residence of the Customer.\n",
    "\n",
    "City => City of residence of of the Customer.\n",
    "\n",
    "State => State of residence of the Customer.\n",
    "\n",
    "Postal Code => Postal Code of every Customer.\n",
    "\n",
    "Region => Region where the Customer belong.\n",
    "\n",
    "Product ID => Unique ID of the Product.\n",
    "\n",
    "Category => Category of the product ordered.\n",
    "\n",
    "Sub-Category => Sub-Category of the product ordered.\n",
    "\n",
    "Product Name => Name of the Product.\n",
    "\n",
    "Sales => Sales of the Product.\n",
    "\n",
    "Quantity => Quantity of the Product.\n",
    "\n",
    "Discount => Discount provided.\n",
    "\n",
    "Profit => Profit/Loss incurred."
   ]
  },
  {
   "cell_type": "code",
   "execution_count": 4,
   "id": "9c7f3b7c",
   "metadata": {},
   "outputs": [
    {
     "data": {
      "text/html": [
       "<div>\n",
       "<style scoped>\n",
       "    .dataframe tbody tr th:only-of-type {\n",
       "        vertical-align: middle;\n",
       "    }\n",
       "\n",
       "    .dataframe tbody tr th {\n",
       "        vertical-align: top;\n",
       "    }\n",
       "\n",
       "    .dataframe thead th {\n",
       "        text-align: right;\n",
       "    }\n",
       "</style>\n",
       "<table border=\"1\" class=\"dataframe\">\n",
       "  <thead>\n",
       "    <tr style=\"text-align: right;\">\n",
       "      <th></th>\n",
       "      <th>Row ID</th>\n",
       "      <th>Order ID</th>\n",
       "      <th>Order Date</th>\n",
       "      <th>Ship Date</th>\n",
       "      <th>Ship Mode</th>\n",
       "      <th>Customer ID</th>\n",
       "      <th>Customer Name</th>\n",
       "      <th>Segment</th>\n",
       "      <th>Country</th>\n",
       "      <th>City</th>\n",
       "      <th>...</th>\n",
       "      <th>Postal Code</th>\n",
       "      <th>Region</th>\n",
       "      <th>Product ID</th>\n",
       "      <th>Category</th>\n",
       "      <th>Sub-Category</th>\n",
       "      <th>Product Name</th>\n",
       "      <th>Sales</th>\n",
       "      <th>Quantity</th>\n",
       "      <th>Discount</th>\n",
       "      <th>Profit</th>\n",
       "    </tr>\n",
       "  </thead>\n",
       "  <tbody>\n",
       "    <tr>\n",
       "      <th>0</th>\n",
       "      <td>1</td>\n",
       "      <td>CA-2016-152156</td>\n",
       "      <td>11/8/2016</td>\n",
       "      <td>11/11/2016</td>\n",
       "      <td>Second Class</td>\n",
       "      <td>CG-12520</td>\n",
       "      <td>Claire Gute</td>\n",
       "      <td>Consumer</td>\n",
       "      <td>United States</td>\n",
       "      <td>Henderson</td>\n",
       "      <td>...</td>\n",
       "      <td>42420</td>\n",
       "      <td>South</td>\n",
       "      <td>FUR-BO-10001798</td>\n",
       "      <td>Furniture</td>\n",
       "      <td>Bookcases</td>\n",
       "      <td>Bush Somerset Collection Bookcase</td>\n",
       "      <td>261.96</td>\n",
       "      <td>2</td>\n",
       "      <td>0.0</td>\n",
       "      <td>41.9136</td>\n",
       "    </tr>\n",
       "    <tr>\n",
       "      <th>1</th>\n",
       "      <td>2</td>\n",
       "      <td>CA-2016-152156</td>\n",
       "      <td>11/8/2016</td>\n",
       "      <td>11/11/2016</td>\n",
       "      <td>Second Class</td>\n",
       "      <td>CG-12520</td>\n",
       "      <td>Claire Gute</td>\n",
       "      <td>Consumer</td>\n",
       "      <td>United States</td>\n",
       "      <td>Henderson</td>\n",
       "      <td>...</td>\n",
       "      <td>42420</td>\n",
       "      <td>South</td>\n",
       "      <td>FUR-CH-10000454</td>\n",
       "      <td>Furniture</td>\n",
       "      <td>Chairs</td>\n",
       "      <td>Hon Deluxe Fabric Upholstered Stacking Chairs,...</td>\n",
       "      <td>731.94</td>\n",
       "      <td>3</td>\n",
       "      <td>0.0</td>\n",
       "      <td>219.5820</td>\n",
       "    </tr>\n",
       "  </tbody>\n",
       "</table>\n",
       "<p>2 rows × 21 columns</p>\n",
       "</div>"
      ],
      "text/plain": [
       "   Row ID        Order ID Order Date   Ship Date     Ship Mode Customer ID  \\\n",
       "0       1  CA-2016-152156  11/8/2016  11/11/2016  Second Class    CG-12520   \n",
       "1       2  CA-2016-152156  11/8/2016  11/11/2016  Second Class    CG-12520   \n",
       "\n",
       "  Customer Name   Segment        Country       City  ... Postal Code  Region  \\\n",
       "0   Claire Gute  Consumer  United States  Henderson  ...       42420   South   \n",
       "1   Claire Gute  Consumer  United States  Henderson  ...       42420   South   \n",
       "\n",
       "        Product ID   Category Sub-Category  \\\n",
       "0  FUR-BO-10001798  Furniture    Bookcases   \n",
       "1  FUR-CH-10000454  Furniture       Chairs   \n",
       "\n",
       "                                        Product Name   Sales  Quantity  \\\n",
       "0                  Bush Somerset Collection Bookcase  261.96         2   \n",
       "1  Hon Deluxe Fabric Upholstered Stacking Chairs,...  731.94         3   \n",
       "\n",
       "   Discount    Profit  \n",
       "0       0.0   41.9136  \n",
       "1       0.0  219.5820  \n",
       "\n",
       "[2 rows x 21 columns]"
      ]
     },
     "execution_count": 4,
     "metadata": {},
     "output_type": "execute_result"
    }
   ],
   "source": [
    "#using the head() method to view the first few rows of the data in super_store\n",
    "\n",
    "super_store.head(2)"
   ]
  },
  {
   "cell_type": "code",
   "execution_count": 5,
   "id": "5a5b8415",
   "metadata": {},
   "outputs": [
    {
     "data": {
      "text/html": [
       "<div>\n",
       "<style scoped>\n",
       "    .dataframe tbody tr th:only-of-type {\n",
       "        vertical-align: middle;\n",
       "    }\n",
       "\n",
       "    .dataframe tbody tr th {\n",
       "        vertical-align: top;\n",
       "    }\n",
       "\n",
       "    .dataframe thead th {\n",
       "        text-align: right;\n",
       "    }\n",
       "</style>\n",
       "<table border=\"1\" class=\"dataframe\">\n",
       "  <thead>\n",
       "    <tr style=\"text-align: right;\">\n",
       "      <th></th>\n",
       "      <th>Row ID</th>\n",
       "      <th>Order ID</th>\n",
       "      <th>Order Date</th>\n",
       "      <th>Ship Date</th>\n",
       "      <th>Ship Mode</th>\n",
       "      <th>Customer ID</th>\n",
       "      <th>Customer Name</th>\n",
       "      <th>Segment</th>\n",
       "      <th>Country</th>\n",
       "      <th>City</th>\n",
       "      <th>...</th>\n",
       "      <th>Postal Code</th>\n",
       "      <th>Region</th>\n",
       "      <th>Product ID</th>\n",
       "      <th>Category</th>\n",
       "      <th>Sub-Category</th>\n",
       "      <th>Product Name</th>\n",
       "      <th>Sales</th>\n",
       "      <th>Quantity</th>\n",
       "      <th>Discount</th>\n",
       "      <th>Profit</th>\n",
       "    </tr>\n",
       "  </thead>\n",
       "  <tbody>\n",
       "    <tr>\n",
       "      <th>9992</th>\n",
       "      <td>9993</td>\n",
       "      <td>CA-2017-121258</td>\n",
       "      <td>2/26/2017</td>\n",
       "      <td>3/3/2017</td>\n",
       "      <td>Standard Class</td>\n",
       "      <td>DB-13060</td>\n",
       "      <td>Dave Brooks</td>\n",
       "      <td>Consumer</td>\n",
       "      <td>United States</td>\n",
       "      <td>Costa Mesa</td>\n",
       "      <td>...</td>\n",
       "      <td>92627</td>\n",
       "      <td>West</td>\n",
       "      <td>OFF-PA-10004041</td>\n",
       "      <td>Office Supplies</td>\n",
       "      <td>Paper</td>\n",
       "      <td>It's Hot Message Books with Stickers, 2 3/4\" x 5\"</td>\n",
       "      <td>29.60</td>\n",
       "      <td>4</td>\n",
       "      <td>0.0</td>\n",
       "      <td>13.320</td>\n",
       "    </tr>\n",
       "    <tr>\n",
       "      <th>9993</th>\n",
       "      <td>9994</td>\n",
       "      <td>CA-2017-119914</td>\n",
       "      <td>5/4/2017</td>\n",
       "      <td>5/9/2017</td>\n",
       "      <td>Second Class</td>\n",
       "      <td>CC-12220</td>\n",
       "      <td>Chris Cortes</td>\n",
       "      <td>Consumer</td>\n",
       "      <td>United States</td>\n",
       "      <td>Westminster</td>\n",
       "      <td>...</td>\n",
       "      <td>92683</td>\n",
       "      <td>West</td>\n",
       "      <td>OFF-AP-10002684</td>\n",
       "      <td>Office Supplies</td>\n",
       "      <td>Appliances</td>\n",
       "      <td>Acco 7-Outlet Masterpiece Power Center, Wihtou...</td>\n",
       "      <td>243.16</td>\n",
       "      <td>2</td>\n",
       "      <td>0.0</td>\n",
       "      <td>72.948</td>\n",
       "    </tr>\n",
       "  </tbody>\n",
       "</table>\n",
       "<p>2 rows × 21 columns</p>\n",
       "</div>"
      ],
      "text/plain": [
       "      Row ID        Order ID Order Date Ship Date       Ship Mode Customer ID  \\\n",
       "9992    9993  CA-2017-121258  2/26/2017  3/3/2017  Standard Class    DB-13060   \n",
       "9993    9994  CA-2017-119914   5/4/2017  5/9/2017    Second Class    CC-12220   \n",
       "\n",
       "     Customer Name   Segment        Country         City  ... Postal Code  \\\n",
       "9992   Dave Brooks  Consumer  United States   Costa Mesa  ...       92627   \n",
       "9993  Chris Cortes  Consumer  United States  Westminster  ...       92683   \n",
       "\n",
       "      Region       Product ID         Category Sub-Category  \\\n",
       "9992    West  OFF-PA-10004041  Office Supplies        Paper   \n",
       "9993    West  OFF-AP-10002684  Office Supplies   Appliances   \n",
       "\n",
       "                                           Product Name   Sales  Quantity  \\\n",
       "9992  It's Hot Message Books with Stickers, 2 3/4\" x 5\"   29.60         4   \n",
       "9993  Acco 7-Outlet Masterpiece Power Center, Wihtou...  243.16         2   \n",
       "\n",
       "      Discount  Profit  \n",
       "9992       0.0  13.320  \n",
       "9993       0.0  72.948  \n",
       "\n",
       "[2 rows x 21 columns]"
      ]
     },
     "execution_count": 5,
     "metadata": {},
     "output_type": "execute_result"
    }
   ],
   "source": [
    "#using the tail() method to view the last few rows of the data in super_store\n",
    "\n",
    "super_store.tail(2)"
   ]
  },
  {
   "cell_type": "markdown",
   "id": "bf115ac9",
   "metadata": {},
   "source": [
    "#### Understanding the data\n",
    "An introductory step is to look at the content of the data to get an idea of what we're going to be dealing with"
   ]
  },
  {
   "cell_type": "markdown",
   "id": "9056685e",
   "metadata": {},
   "source": [
    "#### What is/are the main feature(s) (Fact columns) of interest in your dataset?\n",
    "\n",
    "Sales \n",
    "\n",
    "Quantity\n",
    "\n",
    "Discount\n",
    "\n",
    "Profit\n",
    "\n",
    "\n",
    "#### What features in the dataset do you think will help support your investigation into your feature(s) of interest (Description columns)?\n",
    "Ship mood\n",
    "\n",
    "Segments\n",
    "\n",
    "Category\n",
    "\n",
    "Customer name\n",
    "\n",
    "Region\n",
    "\n",
    "State"
   ]
  },
  {
   "cell_type": "code",
   "execution_count": 6,
   "id": "ed9bcbe5",
   "metadata": {},
   "outputs": [
    {
     "data": {
      "text/plain": [
       "(9994, 21)"
      ]
     },
     "execution_count": 6,
     "metadata": {},
     "output_type": "execute_result"
    }
   ],
   "source": [
    " # .shape() tells us the Number of Row and Columns of the dataset\n",
    "\n",
    "super_store1.shape       "
   ]
  },
  {
   "cell_type": "code",
   "execution_count": 7,
   "id": "c202e46c",
   "metadata": {
    "scrolled": false
   },
   "outputs": [
    {
     "data": {
      "text/plain": [
       "Index(['Row ID', 'Order ID', 'Order Date', 'Ship Date', 'Ship Mode',\n",
       "       'Customer ID', 'Customer Name', 'Segment', 'Country', 'City', 'State',\n",
       "       'Postal Code', 'Region', 'Product ID', 'Category', 'Sub-Category',\n",
       "       'Product Name', 'Sales', 'Quantity', 'Discount', 'Profit'],\n",
       "      dtype='object')"
      ]
     },
     "execution_count": 7,
     "metadata": {},
     "output_type": "execute_result"
    }
   ],
   "source": [
    "#List of Column names\n",
    "\n",
    "super_store1.columns"
   ]
  },
  {
   "cell_type": "code",
   "execution_count": 8,
   "id": "141fb160",
   "metadata": {},
   "outputs": [
    {
     "data": {
      "text/plain": [
       "Row ID             int64\n",
       "Order ID          object\n",
       "Order Date        object\n",
       "Ship Date         object\n",
       "Ship Mode         object\n",
       "Customer ID       object\n",
       "Customer Name     object\n",
       "Segment           object\n",
       "Country           object\n",
       "City              object\n",
       "State             object\n",
       "Postal Code        int64\n",
       "Region            object\n",
       "Product ID        object\n",
       "Category          object\n",
       "Sub-Category      object\n",
       "Product Name      object\n",
       "Sales            float64\n",
       "Quantity           int64\n",
       "Discount         float64\n",
       "Profit           float64\n",
       "dtype: object"
      ]
     },
     "execution_count": 8,
     "metadata": {},
     "output_type": "execute_result"
    }
   ],
   "source": [
    "super_store1.dtypes"
   ]
  },
  {
   "cell_type": "markdown",
   "id": "a66c973b",
   "metadata": {},
   "source": [
    "### Data Cleaning"
   ]
  },
  {
   "cell_type": "code",
   "execution_count": 9,
   "id": "c906668b",
   "metadata": {
    "scrolled": true
   },
   "outputs": [
    {
     "data": {
      "text/html": [
       "<div>\n",
       "<style scoped>\n",
       "    .dataframe tbody tr th:only-of-type {\n",
       "        vertical-align: middle;\n",
       "    }\n",
       "\n",
       "    .dataframe tbody tr th {\n",
       "        vertical-align: top;\n",
       "    }\n",
       "\n",
       "    .dataframe thead th {\n",
       "        text-align: right;\n",
       "    }\n",
       "</style>\n",
       "<table border=\"1\" class=\"dataframe\">\n",
       "  <thead>\n",
       "    <tr style=\"text-align: right;\">\n",
       "      <th></th>\n",
       "      <th>Order ID</th>\n",
       "      <th>Order Date</th>\n",
       "      <th>Ship Date</th>\n",
       "      <th>Ship Mode</th>\n",
       "      <th>Customer ID</th>\n",
       "      <th>Customer Name</th>\n",
       "      <th>Segment</th>\n",
       "      <th>Country</th>\n",
       "      <th>City</th>\n",
       "      <th>State</th>\n",
       "      <th>Postal Code</th>\n",
       "      <th>Region</th>\n",
       "      <th>Product ID</th>\n",
       "      <th>Category</th>\n",
       "      <th>Sub-Category</th>\n",
       "      <th>Product Name</th>\n",
       "      <th>Sales</th>\n",
       "      <th>Quantity</th>\n",
       "      <th>Discount</th>\n",
       "      <th>Profit</th>\n",
       "    </tr>\n",
       "  </thead>\n",
       "  <tbody>\n",
       "    <tr>\n",
       "      <th>0</th>\n",
       "      <td>CA-2016-152156</td>\n",
       "      <td>11/8/2016</td>\n",
       "      <td>11/11/2016</td>\n",
       "      <td>Second Class</td>\n",
       "      <td>CG-12520</td>\n",
       "      <td>Claire Gute</td>\n",
       "      <td>Consumer</td>\n",
       "      <td>United States</td>\n",
       "      <td>Henderson</td>\n",
       "      <td>Kentucky</td>\n",
       "      <td>42420</td>\n",
       "      <td>South</td>\n",
       "      <td>FUR-BO-10001798</td>\n",
       "      <td>Furniture</td>\n",
       "      <td>Bookcases</td>\n",
       "      <td>Bush Somerset Collection Bookcase</td>\n",
       "      <td>261.96</td>\n",
       "      <td>2</td>\n",
       "      <td>0.0</td>\n",
       "      <td>41.9136</td>\n",
       "    </tr>\n",
       "    <tr>\n",
       "      <th>1</th>\n",
       "      <td>CA-2016-152156</td>\n",
       "      <td>11/8/2016</td>\n",
       "      <td>11/11/2016</td>\n",
       "      <td>Second Class</td>\n",
       "      <td>CG-12520</td>\n",
       "      <td>Claire Gute</td>\n",
       "      <td>Consumer</td>\n",
       "      <td>United States</td>\n",
       "      <td>Henderson</td>\n",
       "      <td>Kentucky</td>\n",
       "      <td>42420</td>\n",
       "      <td>South</td>\n",
       "      <td>FUR-CH-10000454</td>\n",
       "      <td>Furniture</td>\n",
       "      <td>Chairs</td>\n",
       "      <td>Hon Deluxe Fabric Upholstered Stacking Chairs,...</td>\n",
       "      <td>731.94</td>\n",
       "      <td>3</td>\n",
       "      <td>0.0</td>\n",
       "      <td>219.5820</td>\n",
       "    </tr>\n",
       "  </tbody>\n",
       "</table>\n",
       "</div>"
      ],
      "text/plain": [
       "         Order ID Order Date   Ship Date     Ship Mode Customer ID  \\\n",
       "0  CA-2016-152156  11/8/2016  11/11/2016  Second Class    CG-12520   \n",
       "1  CA-2016-152156  11/8/2016  11/11/2016  Second Class    CG-12520   \n",
       "\n",
       "  Customer Name   Segment        Country       City     State  Postal Code  \\\n",
       "0   Claire Gute  Consumer  United States  Henderson  Kentucky        42420   \n",
       "1   Claire Gute  Consumer  United States  Henderson  Kentucky        42420   \n",
       "\n",
       "  Region       Product ID   Category Sub-Category  \\\n",
       "0  South  FUR-BO-10001798  Furniture    Bookcases   \n",
       "1  South  FUR-CH-10000454  Furniture       Chairs   \n",
       "\n",
       "                                        Product Name   Sales  Quantity  \\\n",
       "0                  Bush Somerset Collection Bookcase  261.96         2   \n",
       "1  Hon Deluxe Fabric Upholstered Stacking Chairs,...  731.94         3   \n",
       "\n",
       "   Discount    Profit  \n",
       "0       0.0   41.9136  \n",
       "1       0.0  219.5820  "
      ]
     },
     "execution_count": 9,
     "metadata": {},
     "output_type": "execute_result"
    }
   ],
   "source": [
    "#Removing redundant column\n",
    "# Since there is an implicit indexing, the first column 'Row ID' is not needed, drop row using .drop()\n",
    "\n",
    "super_store1.drop('Row ID',axis=1,inplace=True)\n",
    "super_store1.head(2)"
   ]
  },
  {
   "cell_type": "code",
   "execution_count": 10,
   "id": "a2ad703e",
   "metadata": {
    "scrolled": false
   },
   "outputs": [
    {
     "data": {
      "text/plain": [
       "Order ID         0\n",
       "Order Date       0\n",
       "Ship Date        0\n",
       "Ship Mode        0\n",
       "Customer ID      0\n",
       "Customer Name    0\n",
       "Segment          0\n",
       "Country          0\n",
       "City             0\n",
       "State            0\n",
       "Postal Code      0\n",
       "Region           0\n",
       "Product ID       0\n",
       "Category         0\n",
       "Sub-Category     0\n",
       "Product Name     0\n",
       "Sales            0\n",
       "Quantity         0\n",
       "Discount         0\n",
       "Profit           0\n",
       "dtype: int64"
      ]
     },
     "execution_count": 10,
     "metadata": {},
     "output_type": "execute_result"
    }
   ],
   "source": [
    "#Checking for missing data in the data set.\n",
    "\n",
    "super_store1.isna().sum()"
   ]
  },
  {
   "cell_type": "code",
   "execution_count": 124,
   "id": "d701dbff",
   "metadata": {},
   "outputs": [
    {
     "data": {
      "text/html": [
       "<div>\n",
       "<style scoped>\n",
       "    .dataframe tbody tr th:only-of-type {\n",
       "        vertical-align: middle;\n",
       "    }\n",
       "\n",
       "    .dataframe tbody tr th {\n",
       "        vertical-align: top;\n",
       "    }\n",
       "\n",
       "    .dataframe thead th {\n",
       "        text-align: right;\n",
       "    }\n",
       "</style>\n",
       "<table border=\"1\" class=\"dataframe\">\n",
       "  <thead>\n",
       "    <tr style=\"text-align: right;\">\n",
       "      <th></th>\n",
       "      <th>Order ID</th>\n",
       "      <th>Order Date</th>\n",
       "      <th>Ship Date</th>\n",
       "      <th>Ship Mode</th>\n",
       "      <th>Customer ID</th>\n",
       "      <th>Customer Name</th>\n",
       "      <th>Segment</th>\n",
       "      <th>Country</th>\n",
       "      <th>City</th>\n",
       "      <th>State</th>\n",
       "      <th>Postal Code</th>\n",
       "      <th>Region</th>\n",
       "      <th>Product ID</th>\n",
       "      <th>Category</th>\n",
       "      <th>Sub-Category</th>\n",
       "      <th>Product Name</th>\n",
       "      <th>Sales</th>\n",
       "      <th>Quantity</th>\n",
       "      <th>Discount</th>\n",
       "      <th>Profit</th>\n",
       "    </tr>\n",
       "  </thead>\n",
       "  <tbody>\n",
       "    <tr>\n",
       "      <th>3406</th>\n",
       "      <td>US-2014-150119</td>\n",
       "      <td>2014-04-23</td>\n",
       "      <td>2014-04-27</td>\n",
       "      <td>Standard Class</td>\n",
       "      <td>LB-16795</td>\n",
       "      <td>Laurel Beltran</td>\n",
       "      <td>Home Office</td>\n",
       "      <td>United States</td>\n",
       "      <td>Columbus</td>\n",
       "      <td>Ohio</td>\n",
       "      <td>43229</td>\n",
       "      <td>East</td>\n",
       "      <td>FUR-CH-10002965</td>\n",
       "      <td>Furniture</td>\n",
       "      <td>Chairs</td>\n",
       "      <td>Global Leather Highback Executive Chair with P...</td>\n",
       "      <td>281.372</td>\n",
       "      <td>2</td>\n",
       "      <td>0.3</td>\n",
       "      <td>-12.0588</td>\n",
       "    </tr>\n",
       "  </tbody>\n",
       "</table>\n",
       "</div>"
      ],
      "text/plain": [
       "            Order ID Order Date  Ship Date       Ship Mode Customer ID  \\\n",
       "3406  US-2014-150119 2014-04-23 2014-04-27  Standard Class    LB-16795   \n",
       "\n",
       "       Customer Name      Segment        Country      City State Postal Code  \\\n",
       "3406  Laurel Beltran  Home Office  United States  Columbus  Ohio       43229   \n",
       "\n",
       "     Region       Product ID   Category Sub-Category  \\\n",
       "3406   East  FUR-CH-10002965  Furniture       Chairs   \n",
       "\n",
       "                                           Product Name    Sales  Quantity  \\\n",
       "3406  Global Leather Highback Executive Chair with P...  281.372         2   \n",
       "\n",
       "      Discount   Profit  \n",
       "3406       0.3 -12.0588  "
      ]
     },
     "execution_count": 124,
     "metadata": {},
     "output_type": "execute_result"
    }
   ],
   "source": [
    "#There is one duplicated entry in the dataset. Let's check it out\n",
    "super_store1[super_store1.duplicated()]"
   ]
  },
  {
   "cell_type": "code",
   "execution_count": 125,
   "id": "b37a960f",
   "metadata": {},
   "outputs": [],
   "source": [
    "# this duplicate could be an entry error, so We'll drop it\n",
    "super_store1 = super_store1.drop_duplicates()"
   ]
  },
  {
   "cell_type": "code",
   "execution_count": 225,
   "id": "c11997f2",
   "metadata": {},
   "outputs": [],
   "source": [
    "#creating new column Year and Month from the Order date for further visualizations \n",
    "#Year column\n",
    "super_store1['Year'] = super_store1['Order Date'].dt.year"
   ]
  },
  {
   "cell_type": "code",
   "execution_count": 226,
   "id": "0b908dd7",
   "metadata": {
    "scrolled": true
   },
   "outputs": [],
   "source": [
    "#Month column\n",
    "super_store1['Month'] = super_store1['Order Date'].dt.month"
   ]
  },
  {
   "cell_type": "code",
   "execution_count": 228,
   "id": "eec4ef30",
   "metadata": {},
   "outputs": [],
   "source": [
    "#changed the dtype of the new columns to objects for further manipulations\n",
    "super_store1['Year'] = super_store1['Year'].astype(str)\n",
    "super_store1['Month'] = super_store1['Month'].astype(str)"
   ]
  },
  {
   "cell_type": "code",
   "execution_count": 238,
   "id": "7086303f",
   "metadata": {
    "scrolled": false
   },
   "outputs": [],
   "source": [
    "#Created a combination of the Year and Month column and called it Date. \n",
    "#where 'Order Date' is needed for visualization, 'Date' will be used.\n",
    "\n",
    "super_store1['Date'] = super_store1.Year +' ' + super_store1.Month"
   ]
  },
  {
   "cell_type": "code",
   "execution_count": 11,
   "id": "e44ce2f3",
   "metadata": {
    "scrolled": true
   },
   "outputs": [
    {
     "name": "stdout",
     "output_type": "stream",
     "text": [
      "<class 'pandas.core.frame.DataFrame'>\n",
      "RangeIndex: 9994 entries, 0 to 9993\n",
      "Data columns (total 20 columns):\n",
      " #   Column         Non-Null Count  Dtype  \n",
      "---  ------         --------------  -----  \n",
      " 0   Order ID       9994 non-null   object \n",
      " 1   Order Date     9994 non-null   object \n",
      " 2   Ship Date      9994 non-null   object \n",
      " 3   Ship Mode      9994 non-null   object \n",
      " 4   Customer ID    9994 non-null   object \n",
      " 5   Customer Name  9994 non-null   object \n",
      " 6   Segment        9994 non-null   object \n",
      " 7   Country        9994 non-null   object \n",
      " 8   City           9994 non-null   object \n",
      " 9   State          9994 non-null   object \n",
      " 10  Postal Code    9994 non-null   int64  \n",
      " 11  Region         9994 non-null   object \n",
      " 12  Product ID     9994 non-null   object \n",
      " 13  Category       9994 non-null   object \n",
      " 14  Sub-Category   9994 non-null   object \n",
      " 15  Product Name   9994 non-null   object \n",
      " 16  Sales          9994 non-null   float64\n",
      " 17  Quantity       9994 non-null   int64  \n",
      " 18  Discount       9994 non-null   float64\n",
      " 19  Profit         9994 non-null   float64\n",
      "dtypes: float64(3), int64(2), object(15)\n",
      "memory usage: 1.5+ MB\n"
     ]
    }
   ],
   "source": [
    "# Checking the data general information\n",
    "\n",
    "super_store1.info()"
   ]
  },
  {
   "cell_type": "code",
   "execution_count": 12,
   "id": "df98858b",
   "metadata": {},
   "outputs": [],
   "source": [
    "#Column 'Postal Code' is an Int but since it is not a measure, it should be a string\n",
    "#convert Int to Str\n",
    "\n",
    "super_store1['Postal Code'] = super_store1['Postal Code'].astype(str)"
   ]
  },
  {
   "cell_type": "code",
   "execution_count": 242,
   "id": "f9e5369e",
   "metadata": {},
   "outputs": [],
   "source": [
    "#converting floats to int for Sales and Profit columns\n",
    "super_store1['Sales'] = super_store1['Sales'].astype(int)\n",
    "super_store1['Profit'] = super_store1['Profit'].astype(int)"
   ]
  },
  {
   "cell_type": "code",
   "execution_count": 243,
   "id": "3e12781d",
   "metadata": {
    "scrolled": false
   },
   "outputs": [
    {
     "name": "stdout",
     "output_type": "stream",
     "text": [
      "<class 'pandas.core.frame.DataFrame'>\n",
      "Int64Index: 9993 entries, 0 to 9993\n",
      "Data columns (total 23 columns):\n",
      " #   Column         Non-Null Count  Dtype         \n",
      "---  ------         --------------  -----         \n",
      " 0   Order ID       9993 non-null   object        \n",
      " 1   Order Date     9993 non-null   datetime64[ns]\n",
      " 2   Ship Date      9993 non-null   datetime64[ns]\n",
      " 3   Ship Mode      9993 non-null   object        \n",
      " 4   Customer ID    9993 non-null   object        \n",
      " 5   Customer Name  9993 non-null   object        \n",
      " 6   Segment        9993 non-null   object        \n",
      " 7   Country        9993 non-null   object        \n",
      " 8   City           9993 non-null   object        \n",
      " 9   State          9993 non-null   object        \n",
      " 10  Postal Code    9993 non-null   object        \n",
      " 11  Region         9993 non-null   object        \n",
      " 12  Product ID     9993 non-null   object        \n",
      " 13  Category       9993 non-null   object        \n",
      " 14  Sub-Category   9993 non-null   object        \n",
      " 15  Product Name   9993 non-null   object        \n",
      " 16  Sales          9993 non-null   int32         \n",
      " 17  Quantity       9993 non-null   int64         \n",
      " 18  Discount       9993 non-null   float64       \n",
      " 19  Profit         9993 non-null   int32         \n",
      " 20  Year           9993 non-null   object        \n",
      " 21  Month          9993 non-null   object        \n",
      " 22  Date           9993 non-null   object        \n",
      "dtypes: datetime64[ns](2), float64(1), int32(2), int64(1), object(17)\n",
      "memory usage: 2.0+ MB\n"
     ]
    }
   ],
   "source": [
    "#confirmation of the datatype changes that was made\n",
    "\n",
    "super_store1.info()"
   ]
  },
  {
   "cell_type": "code",
   "execution_count": null,
   "id": "58bcd4ad",
   "metadata": {},
   "outputs": [],
   "source": []
  },
  {
   "cell_type": "markdown",
   "id": "54e8551b",
   "metadata": {},
   "source": [
    "#### Univariate Analysis"
   ]
  },
  {
   "cell_type": "code",
   "execution_count": 244,
   "id": "2855ffd0",
   "metadata": {},
   "outputs": [
    {
     "data": {
      "text/html": [
       "<div>\n",
       "<style scoped>\n",
       "    .dataframe tbody tr th:only-of-type {\n",
       "        vertical-align: middle;\n",
       "    }\n",
       "\n",
       "    .dataframe tbody tr th {\n",
       "        vertical-align: top;\n",
       "    }\n",
       "\n",
       "    .dataframe thead th {\n",
       "        text-align: right;\n",
       "    }\n",
       "</style>\n",
       "<table border=\"1\" class=\"dataframe\">\n",
       "  <thead>\n",
       "    <tr style=\"text-align: right;\">\n",
       "      <th></th>\n",
       "      <th>Sales</th>\n",
       "      <th>Quantity</th>\n",
       "      <th>Discount</th>\n",
       "      <th>Profit</th>\n",
       "    </tr>\n",
       "  </thead>\n",
       "  <tbody>\n",
       "    <tr>\n",
       "      <th>count</th>\n",
       "      <td>9993.000000</td>\n",
       "      <td>9993.000000</td>\n",
       "      <td>9993.000000</td>\n",
       "      <td>9993.000000</td>\n",
       "    </tr>\n",
       "    <tr>\n",
       "      <th>mean</th>\n",
       "      <td>229.262784</td>\n",
       "      <td>3.789753</td>\n",
       "      <td>0.156188</td>\n",
       "      <td>28.339338</td>\n",
       "    </tr>\n",
       "    <tr>\n",
       "      <th>std</th>\n",
       "      <td>623.252399</td>\n",
       "      <td>2.225149</td>\n",
       "      <td>0.206457</td>\n",
       "      <td>234.158738</td>\n",
       "    </tr>\n",
       "    <tr>\n",
       "      <th>min</th>\n",
       "      <td>0.000000</td>\n",
       "      <td>1.000000</td>\n",
       "      <td>0.000000</td>\n",
       "      <td>-6599.000000</td>\n",
       "    </tr>\n",
       "    <tr>\n",
       "      <th>25%</th>\n",
       "      <td>17.000000</td>\n",
       "      <td>2.000000</td>\n",
       "      <td>0.000000</td>\n",
       "      <td>1.000000</td>\n",
       "    </tr>\n",
       "    <tr>\n",
       "      <th>50%</th>\n",
       "      <td>54.000000</td>\n",
       "      <td>3.000000</td>\n",
       "      <td>0.200000</td>\n",
       "      <td>8.000000</td>\n",
       "    </tr>\n",
       "    <tr>\n",
       "      <th>75%</th>\n",
       "      <td>209.000000</td>\n",
       "      <td>5.000000</td>\n",
       "      <td>0.200000</td>\n",
       "      <td>29.000000</td>\n",
       "    </tr>\n",
       "    <tr>\n",
       "      <th>max</th>\n",
       "      <td>22638.000000</td>\n",
       "      <td>14.000000</td>\n",
       "      <td>0.800000</td>\n",
       "      <td>8399.000000</td>\n",
       "    </tr>\n",
       "  </tbody>\n",
       "</table>\n",
       "</div>"
      ],
      "text/plain": [
       "              Sales     Quantity     Discount       Profit\n",
       "count   9993.000000  9993.000000  9993.000000  9993.000000\n",
       "mean     229.262784     3.789753     0.156188    28.339338\n",
       "std      623.252399     2.225149     0.206457   234.158738\n",
       "min        0.000000     1.000000     0.000000 -6599.000000\n",
       "25%       17.000000     2.000000     0.000000     1.000000\n",
       "50%       54.000000     3.000000     0.200000     8.000000\n",
       "75%      209.000000     5.000000     0.200000    29.000000\n",
       "max    22638.000000    14.000000     0.800000  8399.000000"
      ]
     },
     "execution_count": 244,
     "metadata": {},
     "output_type": "execute_result"
    }
   ],
   "source": [
    "# Statistical Summary of the data\n",
    "\n",
    "super_store1.describe()"
   ]
  },
  {
   "cell_type": "code",
   "execution_count": 152,
   "id": "a4ed1705",
   "metadata": {
    "scrolled": true
   },
   "outputs": [],
   "source": [
    "# View of distributions within the columns\n",
    "\n",
    "# creating a fuction for ploting my histigram for univariate plots.\n",
    "def hist_plot(df,x_value,bin):\n",
    "    '''\n",
    "    The function accept 3 varables.\n",
    "    \n",
    "    df: the data frame\n",
    "    \n",
    "    x_value: the x value to plot\n",
    "    \n",
    "    bin: the bin size one need for ploting\n",
    "    \n",
    "    '''\n",
    "    # setting the fig size for ploting\n",
    "    plt.figure(figsize = [6, 3])\n",
    "    # ploting the function with .hist\n",
    "    plt.hist(data = df, x = x_value, bins = bin);\n",
    "    # setting the title for the data set\n",
    "    plt.title(f'''{x_value} distribution'''.title(),fontsize=13,weight=(\"bold\"))\n",
    "    # setting the y label\n",
    "    plt.ylabel('Count'.title(),fontsize=10,weight=(\"bold\"))\n",
    "    # setting the x label\n",
    "    plt.xlabel(x_value.title(),fontsize=10,weight=(\"bold\"))"
   ]
  },
  {
   "cell_type": "code",
   "execution_count": 249,
   "id": "cd6778b8",
   "metadata": {},
   "outputs": [
    {
     "data": {
      "image/png": "[encoded data removed]",
      "text/plain": [
       "<Figure size 432x216 with 1 Axes>"
      ]
     },
     "metadata": {
      "needs_background": "light"
     },
     "output_type": "display_data"
    },
    {
     "data": {
      "image/png": "[encoded data removed]",
      "text/plain": [
       "<Figure size 432x216 with 1 Axes>"
      ]
     },
     "metadata": {
      "needs_background": "light"
     },
     "output_type": "display_data"
    },
    {
     "data": {
      "image/png": "[encoded data removed]",
      "text/plain": [
       "<Figure size 432x216 with 1 Axes>"
      ]
     },
     "metadata": {
      "needs_background": "light"
     },
     "output_type": "display_data"
    },
    {
     "data": {
      "image/png": "[encoded data removed]",
      "text/plain": [
       "<Figure size 432x216 with 1 Axes>"
      ]
     },
     "metadata": {
      "needs_background": "light"
     },
     "output_type": "display_data"
    }
   ],
   "source": [
    "# plotting the fact values with the function\n",
    "hist_plot(super_store1,'Sales',bin = np.arange(0, 3000+500, 500))\n",
    "hist_plot(super_store1,'Profit',bin = np.arange(0, 3000+500, 500))\n",
    "hist_plot(super_store1,'Quantity',bin = np.arange(0, 50+10, 10))\n",
    "hist_plot(super_store1,'Discount',bin = np.arange(0, 1.0+0.02, 0.02))"
   ]
  },
  {
   "cell_type": "markdown",
   "id": "fdab75ad",
   "metadata": {},
   "source": [
    "Sales: Most sales per purchase were between 0 and 500  \n",
    "Quantity: Highest quantity of products bought per purchase was between 0 and 10\n",
    "\n",
    "Discount: Most discounted rate was between 0 and 0.1  (this could mean that must customers weren't given discounts)\n",
    "\n",
    "Profit: Highest generated profit per sales was between 0 & 500"
   ]
  },
  {
   "cell_type": "code",
   "execution_count": 166,
   "id": "0cf5e669",
   "metadata": {},
   "outputs": [],
   "source": [
    "# creating a function for ploting our count plot with x variable.\n",
    "\n",
    "def count_yplot(df,y_value,color= sns.color_palette()[0],order=None):\n",
    "    '''\n",
    "    The function accept 3 varables.\n",
    "    \n",
    "    df: the data frame\n",
    "    \n",
    "    y_value: the y value to plot\n",
    "    \n",
    "    order: order of the value\n",
    "    \n",
    "    '''\n",
    "    # setting the fig size for ploting\n",
    "    plt.figure(figsize = [5, 3])\n",
    "    # ploting the function with .hist\n",
    "    sns.countplot(data = df, y = y_value, edgecolor='black',color=color,order=order );\n",
    "    # setting the title for the data set\n",
    "    plt.title(f'''{y_value} distribution'''.title(),fontsize=13,weight=(\"bold\"))\n",
    "    # setting the y label\n",
    "    plt.xlabel('Count'.title(),fontsize=10,weight=(\"bold\"))\n",
    "    # setting the x label\n",
    "    plt.ylabel(y_value.title(),fontsize=10,weight=(\"bold\"))"
   ]
  },
  {
   "cell_type": "code",
   "execution_count": 167,
   "id": "13f91c84",
   "metadata": {},
   "outputs": [
    {
     "data": {
      "image/png": "[encoded data removed]",
      "text/plain": [
       "<Figure size 360x216 with 1 Axes>"
      ]
     },
     "metadata": {
      "needs_background": "light"
     },
     "output_type": "display_data"
    }
   ],
   "source": [
    "# ploting a distribution count for ship mode using the count_yplot function\n",
    "\n",
    "# creating an order for the plot \n",
    "orders=super_store1['Ship Mode'].value_counts().index\n",
    "# using the y function to plot the distribution\n",
    "count_yplot(super_store1,'Ship Mode',order=orders)"
   ]
  },
  {
   "cell_type": "markdown",
   "id": "68b6015b",
   "metadata": {},
   "source": [
    "From the chart, we can see that Customers used the \"Standard Class\" Ship mode most (almost 6000 transactions)"
   ]
  },
  {
   "cell_type": "code",
   "execution_count": 149,
   "id": "24c5089f",
   "metadata": {
    "scrolled": true
   },
   "outputs": [
    {
     "data": {
      "image/png": "[encoded data removed]",
      "text/plain": [
       "<Figure size 360x216 with 1 Axes>"
      ]
     },
     "metadata": {
      "needs_background": "light"
     },
     "output_type": "display_data"
    }
   ],
   "source": [
    "# ploting a distribution count for Category using the count_yplot function\n",
    "\n",
    "# creating an order for the plot \n",
    "orders=super_store1['Category'].value_counts().index\n",
    "# using the y function to plot the distribution\n",
    "count_yplot(super_store1,'Category',order=orders)"
   ]
  },
  {
   "cell_type": "markdown",
   "id": "f8022021",
   "metadata": {},
   "source": [
    "From the chart, we can see that the Product Category \"Office Supplies\" were sold most (6000 sales transactions)"
   ]
  },
  {
   "cell_type": "code",
   "execution_count": 147,
   "id": "e720155f",
   "metadata": {
    "scrolled": true
   },
   "outputs": [
    {
     "data": {
      "image/png": "[encoded data removed]",
      "text/plain": [
       "<Figure size 360x216 with 1 Axes>"
      ]
     },
     "metadata": {
      "needs_background": "light"
     },
     "output_type": "display_data"
    }
   ],
   "source": [
    "# ploting a distribution count for segment using the count_yplot function\n",
    "\n",
    "# creating an order for the plot \n",
    "orders=super_store1['Segment'].value_counts().index\n",
    "# using the y function to plot the distribution\n",
    "count_yplot(super_store1,'Segment',order=orders)"
   ]
  },
  {
   "cell_type": "markdown",
   "id": "aacd86a7",
   "metadata": {},
   "source": [
    "From the chart, we can see that the highest patronage of the store was from the \"Consumer\" Segment (>5000, about70%)"
   ]
  },
  {
   "cell_type": "code",
   "execution_count": 161,
   "id": "c2187633",
   "metadata": {
    "scrolled": true
   },
   "outputs": [
    {
     "data": {
      "image/png": "[encoded data removed]",
      "text/plain": [
       "<Figure size 360x216 with 1 Axes>"
      ]
     },
     "metadata": {
      "needs_background": "light"
     },
     "output_type": "display_data"
    }
   ],
   "source": [
    "# ploting a distribution count for Customer name using the count_yplot function\n",
    "\n",
    "# creating an order for the plot \n",
    "orders=super_store1['Customer Name'].value_counts().index[:5]\n",
    "# using the y function to plot the distribution\n",
    "count_yplot(super_store1,'Customer Name',order=orders)"
   ]
  },
  {
   "cell_type": "markdown",
   "id": "15907b73",
   "metadata": {},
   "source": [
    "From the chart, we can see that Customer \"William Brown\" carried out the most transactions in the store (> 35 transactions). This will be really clearer when related to the discount rates"
   ]
  },
  {
   "cell_type": "code",
   "execution_count": 148,
   "id": "b98079aa",
   "metadata": {},
   "outputs": [
    {
     "data": {
      "image/png": "[encoded data removed]",
      "text/plain": [
       "<Figure size 360x216 with 1 Axes>"
      ]
     },
     "metadata": {
      "needs_background": "light"
     },
     "output_type": "display_data"
    }
   ],
   "source": [
    "# ploting a distribution count for Region using the count_yplot function\n",
    "\n",
    "# creating an order for the plot \n",
    "orders=super_store1['Region'].value_counts().index\n",
    "# using the y function to plot the distribution\n",
    "count_yplot(super_store1,'Region',order=orders)"
   ]
  },
  {
   "cell_type": "markdown",
   "id": "261408ef",
   "metadata": {},
   "source": [
    "From the chart, we can see that \"West Region\" carried out the most transactions in the store (> 3000 transactions)"
   ]
  },
  {
   "cell_type": "code",
   "execution_count": 159,
   "id": "337e62a3",
   "metadata": {},
   "outputs": [
    {
     "data": {
      "image/png": "[encoded data removed]",
      "text/plain": [
       "<Figure size 360x216 with 1 Axes>"
      ]
     },
     "metadata": {
      "needs_background": "light"
     },
     "output_type": "display_data"
    }
   ],
   "source": [
    "# ploting a distribution count for State using the count_yplot function\n",
    "\n",
    "# creating an order for the plot \n",
    "orders=super_store1['State'[:5]].value_counts().index[:5]\n",
    "# using the y function to plot the distribution\n",
    "count_yplot(super_store1,'State',order=orders)"
   ]
  },
  {
   "cell_type": "markdown",
   "id": "d44dd680",
   "metadata": {},
   "source": [
    "From the chart, we can see that State \"California\" carried out the highest transactions in the store (2000 transactions)"
   ]
  },
  {
   "cell_type": "markdown",
   "id": "c7bc8504",
   "metadata": {},
   "source": [
    "#### Bivariate Analysis\n",
    "\n",
    "To achieve the above stated objectives, some questions have to be answered, like:\n"
   ]
  },
  {
   "cell_type": "code",
   "execution_count": null,
   "id": "15509560",
   "metadata": {},
   "outputs": [],
   "source": [
    "#1.\tWhat is the profit trend of the business from 2014-2017?"
   ]
  },
  {
   "cell_type": "code",
   "execution_count": 357,
   "id": "f5942a71",
   "metadata": {},
   "outputs": [
    {
     "data": {
      "text/plain": [
       "Year\n",
       "2014    48925\n",
       "2015    60945\n",
       "2016    80955\n",
       "2017    92370\n",
       "Name: Profit, dtype: int32"
      ]
     },
     "execution_count": 357,
     "metadata": {},
     "output_type": "execute_result"
    }
   ],
   "source": [
    "#Total Profit per Year\n",
    "profit_Yr = super_store1.groupby('Year').Profit.sum()\n",
    "profit_Yr"
   ]
  },
  {
   "cell_type": "code",
   "execution_count": 348,
   "id": "c52f68e2",
   "metadata": {
    "scrolled": false
   },
   "outputs": [
    {
     "data": {
      "image/png": "[encoded data removed]",
      "text/plain": [
       "<Figure size 720x216 with 1 Axes>"
      ]
     },
     "metadata": {
      "needs_background": "light"
     },
     "output_type": "display_data"
    }
   ],
   "source": [
    "#plotting\n",
    "plt.figure(figsize = [10,3])\n",
    "sns.lineplot(x = profit_Yr.index, y = profit_Yr)\n",
    "\n",
    "# setting the title for the data set\n",
    "plt.title('Total Profit by Year', fontsize=13,weight=(\"bold\"))\n",
    "# setting the y label\n",
    "plt.xlabel('Year', fontsize=10,weight=(\"bold\"))\n",
    "# setting the x label\n",
    "plt.ylabel('Profit', fontsize=10,weight=(\"bold\"))\n",
    "\n",
    "plt.show()"
   ]
  },
  {
   "cell_type": "markdown",
   "id": "359a18ae",
   "metadata": {},
   "source": [
    "An Increased Profit Trend is observed with highest Profit generated at 2017."
   ]
  },
  {
   "cell_type": "code",
   "execution_count": 330,
   "id": "b526040d",
   "metadata": {
    "scrolled": true
   },
   "outputs": [
    {
     "data": {
      "text/plain": [
       "Year  Month\n",
       "2014  1         2425\n",
       "      10        3399\n",
       "      11        9195\n",
       "      12        8901\n",
       "      2          853\n",
       "      3          451\n",
       "      4         3448\n",
       "      5         2694\n",
       "      6         4932\n",
       "      7         -882\n",
       "      8         5262\n",
       "      9         8247\n",
       "2015  1        -3295\n",
       "      10        2772\n",
       "      11       12377\n",
       "      12        7896\n",
       "      2         2795\n",
       "      3         9682\n",
       "      4         4139\n",
       "      5         4616\n",
       "      6         3290\n",
       "      7         3246\n",
       "      8         5308\n",
       "      9         8119\n",
       "2016  1         2793\n",
       "      10       16176\n",
       "      11        3890\n",
       "      12       17760\n",
       "      2         4970\n",
       "      3         3572\n",
       "      4         2919\n",
       "      5         8596\n",
       "      6         4681\n",
       "      7         4369\n",
       "      8         2016\n",
       "      9         9213\n",
       "2017  1         7096\n",
       "      10        9199\n",
       "      11        9557\n",
       "      12        8325\n",
       "      2         1581\n",
       "      3        14658\n",
       "      4          881\n",
       "      5         6268\n",
       "      6         8147\n",
       "      7         6874\n",
       "      8         8952\n",
       "      9        10832\n",
       "Name: Profit, dtype: int32"
      ]
     },
     "execution_count": 330,
     "metadata": {},
     "output_type": "execute_result"
    }
   ],
   "source": [
    "#Let's deep in further to see the profit trend along with the months\n",
    "#creating a pivot profit trend of the business by year and month\n",
    "pivot = super_store1.groupby(['Year','Month']).Profit.sum().astype(int)\n",
    "#display the pivot\n",
    "pivot"
   ]
  },
  {
   "cell_type": "code",
   "execution_count": 347,
   "id": "0e6b6b28",
   "metadata": {},
   "outputs": [
    {
     "data": {
      "image/png": "[encoded data removed]",
      "text/plain": [
       "<Figure size 1080x360 with 1 Axes>"
      ]
     },
     "metadata": {
      "needs_background": "light"
     },
     "output_type": "display_data"
    }
   ],
   "source": [
    "#plot the pivot table\n",
    "pivot.plot.bar(figsize=(15,5))  #we use figsize parameter to set the height and width of the chart\n",
    "plt.ticklabel_format(style='plain',axis='y') #write out the prices on y axis in full not scientific notation\n",
    "\n",
    "# setting the title for the data set\n",
    "plt.title('Total Profit In Months/Year', fontsize=13,weight=(\"bold\"))\n",
    "# setting the y label\n",
    "plt.xlabel('Year,Month', fontsize=10,weight=(\"bold\"))\n",
    "# setting the x label\n",
    "plt.ylabel('Profit', fontsize=10,weight=(\"bold\"))\n",
    "\n",
    "plt.show()"
   ]
  },
  {
   "cell_type": "markdown",
   "id": "7e8e527e",
   "metadata": {},
   "source": [
    "More Profits were generated towards the end of the year (October, November and December), except for 2017 which highest Profit was generated at Month March. There were also months which the business was at a loss (July 2014 and January 2015)."
   ]
  },
  {
   "cell_type": "code",
   "execution_count": null,
   "id": "3941e1b9",
   "metadata": {},
   "outputs": [],
   "source": [
    "#2.\tWhat shipping mode is mostly used?"
   ]
  },
  {
   "cell_type": "code",
   "execution_count": 358,
   "id": "bca43d8c",
   "metadata": {},
   "outputs": [
    {
     "data": {
      "text/plain": [
       "Ship Mode\n",
       "First Class        48474\n",
       "Same Day           15707\n",
       "Second Class       56759\n",
       "Standard Class    162255\n",
       "Name: Profit, dtype: int32"
      ]
     },
     "execution_count": 358,
     "metadata": {},
     "output_type": "execute_result"
    }
   ],
   "source": [
    "#Profit by Shipping mode \n",
    "shipping_mode = super_store1.groupby('Ship Mode').Profit.sum()\n",
    "shipping_mode"
   ]
  },
  {
   "cell_type": "code",
   "execution_count": 346,
   "id": "b2a05507",
   "metadata": {},
   "outputs": [
    {
     "data": {
      "image/png": "[encoded data removed]",
      "text/plain": [
       "<Figure size 720x216 with 1 Axes>"
      ]
     },
     "metadata": {
      "needs_background": "light"
     },
     "output_type": "display_data"
    }
   ],
   "source": [
    "#plotting\n",
    "plt.figure(figsize = [10,3])\n",
    "sns.barplot(x = shipping_mode.index, y = shipping_mode)\n",
    "# setting the title for the data set\n",
    "plt.title('Total Profit by Ship Mode', fontsize=13,weight=(\"bold\"))\n",
    "# setting the y label\n",
    "plt.xlabel('Ship Mode', fontsize=10,weight=(\"bold\"))\n",
    "# setting the x label\n",
    "plt.ylabel('Profit', fontsize=10,weight=(\"bold\"))\n",
    "\n",
    "plt.show()"
   ]
  },
  {
   "cell_type": "markdown",
   "id": "4dc81281",
   "metadata": {},
   "source": [
    "'Standard Class' is used most by customers for Shipping their orders and it generated over $160000"
   ]
  },
  {
   "cell_type": "code",
   "execution_count": null,
   "id": "1744a4ac",
   "metadata": {},
   "outputs": [],
   "source": [
    "#3.\tWhat product category generates highest revenue?"
   ]
  },
  {
   "cell_type": "code",
   "execution_count": 356,
   "id": "9a168435",
   "metadata": {},
   "outputs": [
    {
     "data": {
      "text/plain": [
       "Category\n",
       "Furniture           18138\n",
       "Office Supplies    120363\n",
       "Technology         144694\n",
       "Name: Profit, dtype: int32"
      ]
     },
     "execution_count": 356,
     "metadata": {},
     "output_type": "execute_result"
    }
   ],
   "source": [
    "#Profit by Product Category\n",
    "category = super_store1.groupby('Category').Profit.sum()\n",
    "category\n",
    "\n"
   ]
  },
  {
   "cell_type": "code",
   "execution_count": 359,
   "id": "38344fd4",
   "metadata": {},
   "outputs": [
    {
     "data": {
      "image/png": "[encoded data removed]",
      "text/plain": [
       "<Figure size 720x216 with 1 Axes>"
      ]
     },
     "metadata": {
      "needs_background": "light"
     },
     "output_type": "display_data"
    }
   ],
   "source": [
    "#plotting\n",
    "plt.figure(figsize = [10,3])\n",
    "sns.boxplot(x='Category', y='Profit', data=super_store1)\n",
    "\n",
    "# setting the title for the data set\n",
    "plt.title('Total Profit by Product Category', fontsize=13,weight=(\"bold\"))\n",
    "# setting the y label\n",
    "plt.xlabel('Product Category', fontsize=10,weight=(\"bold\"))\n",
    "# setting the x label\n",
    "plt.ylabel('Profit', fontsize=10,weight=(\"bold\"))\n",
    "\n",
    "plt.show()"
   ]
  },
  {
   "cell_type": "markdown",
   "id": "a6cb5065",
   "metadata": {},
   "source": [
    "Products in the Category 'Technology' generated highest profits for the store"
   ]
  },
  {
   "cell_type": "code",
   "execution_count": null,
   "id": "1679ec0a",
   "metadata": {},
   "outputs": [],
   "source": [
    "#4.\tWhat Customer Segment generates highest revenue?"
   ]
  },
  {
   "cell_type": "code",
   "execution_count": 361,
   "id": "b001b8e4",
   "metadata": {},
   "outputs": [
    {
     "data": {
      "text/plain": [
       "Segment\n",
       "Consumer       132476\n",
       "Corporate       90999\n",
       "Home Office     59720\n",
       "Name: Profit, dtype: int32"
      ]
     },
     "execution_count": 361,
     "metadata": {},
     "output_type": "execute_result"
    }
   ],
   "source": [
    "#Profit by Segment\n",
    "segment = super_store1.groupby('Segment').Profit.sum()\n",
    "segment"
   ]
  },
  {
   "cell_type": "code",
   "execution_count": 377,
   "id": "cc6d7b9b",
   "metadata": {},
   "outputs": [
    {
     "data": {
      "image/png": "[encoded data removed]",
      "text/plain": [
       "<Figure size 360x360 with 1 Axes>"
      ]
     },
     "metadata": {},
     "output_type": "display_data"
    }
   ],
   "source": [
    "#Plotting\n",
    "plt.figure(figsize=(5,5))\n",
    "plt.pie(segment,labels=segment.index,autopct= lambda p: f\"{p: .1f}% \\n ${p*np.sum(segment)/100 :,.0f}\")\n",
    "\n",
    "# setting the title for the data set\n",
    "plt.title('Total Profit by Segment', fontsize=13,weight=(\"bold\"))\n",
    "\n",
    "plt.show()"
   ]
  },
  {
   "cell_type": "markdown",
   "id": "13c74e88",
   "metadata": {},
   "source": [
    "'Consumer' Segment perform over 46% of the transactions in the store and hence generated highest profit for the store."
   ]
  },
  {
   "cell_type": "code",
   "execution_count": null,
   "id": "f2bbe953",
   "metadata": {},
   "outputs": [],
   "source": [
    "#5.\tIs discount rate dependent on customers’ sales value?"
   ]
  },
  {
   "cell_type": "code",
   "execution_count": 428,
   "id": "6a4c90ad",
   "metadata": {},
   "outputs": [
    {
     "data": {
      "text/plain": [
       "Customer Name\n",
       "Zuschuss Carroll       7.9\n",
       "William Brown          7.6\n",
       "Chloris Kastensmidt    7.5\n",
       "Erin Ashbrook          7.5\n",
       "Lena Cacioppo          7.2\n",
       "Name: Discount, dtype: float64"
      ]
     },
     "execution_count": 428,
     "metadata": {},
     "output_type": "execute_result"
    }
   ],
   "source": [
    "#Each Customer's discount rate (Top 5 rates)\n",
    "discount_custo = super_store1.groupby('Customer Name').Discount.sum().sort_values(ascending = False)\n",
    "discount_custo[:5]\n"
   ]
  },
  {
   "cell_type": "code",
   "execution_count": 429,
   "id": "294e2b55",
   "metadata": {},
   "outputs": [
    {
     "data": {
      "text/plain": [
       "Customer Name\n",
       "Sean Miller      25035\n",
       "Tamara Chand     19046\n",
       "Raymond Buch     15107\n",
       "Tom Ashbrook     14589\n",
       "Adrian Barton    14460\n",
       "Name: Sales, dtype: int32"
      ]
     },
     "execution_count": 429,
     "metadata": {},
     "output_type": "execute_result"
    }
   ],
   "source": [
    "#Each Customer's Sales (Top 5)\n",
    "custo_sales = super_store1.groupby('Customer Name').Sales.sum().sort_values(ascending = False)\n",
    "custo_sales[:5]"
   ]
  },
  {
   "cell_type": "code",
   "execution_count": 527,
   "id": "d206e242",
   "metadata": {},
   "outputs": [
    {
     "data": {
      "image/png": "[encoded data removed]",
      "text/plain": [
       "<Figure size 360x360 with 1 Axes>"
      ]
     },
     "metadata": {
      "needs_background": "light"
     },
     "output_type": "display_data"
    }
   ],
   "source": [
    "#Plotting the relationship between sales and discount\n",
    "plt.figure(figsize = [5,5])\n",
    "sns.scatterplot(x = custo_sales, y = discount_custo)\n",
    "plt.show()"
   ]
  },
  {
   "cell_type": "markdown",
   "id": "d7e8bac5",
   "metadata": {},
   "source": [
    "There is no correlation between Sums of Sales and Discount. Nevertheless, it can be save to say that discount is given based on a single purchase value."
   ]
  },
  {
   "cell_type": "code",
   "execution_count": null,
   "id": "1a470eed",
   "metadata": {},
   "outputs": [],
   "source": [
    "#6.\tWhat State and Region has the highest profit generation?"
   ]
  },
  {
   "cell_type": "code",
   "execution_count": 490,
   "id": "7f10c0b6",
   "metadata": {},
   "outputs": [
    {
     "name": "stdout",
     "output_type": "stream",
     "text": [
      "State\n",
      "Delaware       9927\n",
      "Minnesota     10772\n",
      "Kentucky      11128\n",
      "Georgia       16153\n",
      "Indiana       18310\n",
      "Virginia      18488\n",
      "Michigan      24334\n",
      "Washington    33160\n",
      "New York      73506\n",
      "California    75466\n",
      "Name: Profit, dtype: int32 State\n",
      "Oregon            -1212\n",
      "Arizona           -3458\n",
      "Florida           -3462\n",
      "Tennessee         -5363\n",
      "Colorado          -6543\n",
      "North Carolina    -7550\n",
      "Illinois         -12611\n",
      "Pennsylvania     -15574\n",
      "Ohio             -16988\n",
      "Texas            -25749\n",
      "Name: Profit, dtype: int32\n"
     ]
    }
   ],
   "source": [
    "# Profit by States\n",
    "Top_10_states = super_store1.groupby('State').Profit.sum().sort_values(ascending = True)[39:]\n",
    "\n",
    "Bottom_10_states = super_store1.groupby('State').Profit.sum().sort_values(ascending = False)[39:]\n",
    "\n",
    "print(Top_10_states, Bottom_10_states)"
   ]
  },
  {
   "cell_type": "code",
   "execution_count": 521,
   "id": "8b6a9385",
   "metadata": {},
   "outputs": [
    {
     "data": {
      "image/png": "[encoded data removed]",
      "text/plain": [
       "<Figure size 360x360 with 1 Axes>"
      ]
     },
     "metadata": {
      "needs_background": "light"
     },
     "output_type": "display_data"
    },
    {
     "data": {
      "image/png": "[encoded data removed]",
      "text/plain": [
       "<Figure size 360x360 with 1 Axes>"
      ]
     },
     "metadata": {
      "needs_background": "light"
     },
     "output_type": "display_data"
    }
   ],
   "source": [
    "#Plotting Top 10 States\n",
    "plt.figure(figsize = (5,5))\n",
    "plt.barh(y= Top_10_states.index, width = Top_10_states);\n",
    "\n",
    "# setting the title for the data set\n",
    "plt.title('Total Profit by States (Top 10)', fontsize=13,weight=(\"bold\"))\n",
    "# setting the y label\n",
    "plt.xlabel('Profit', fontsize=10,weight=(\"bold\"))\n",
    "# setting the x label\n",
    "plt.ylabel('Top 10 States', fontsize=10,weight=(\"bold\"))\n",
    "\n",
    "\n",
    "#Plotting Bottom 10 States\n",
    "plt.figure(figsize = (5,5))\n",
    "plt.barh(y= Bottom_10_states.index, width = Bottom_10_states);\n",
    "\n",
    "# setting the title for the data set\n",
    "plt.title('Total Profit by States (Bottom 10)', fontsize=13,weight=(\"bold\"))\n",
    "# setting the y label\n",
    "plt.xlabel('Profit', fontsize=10,weight=(\"bold\"))\n",
    "# setting the x label\n",
    "plt.ylabel('Bottom 10 States', fontsize=10,weight=(\"bold\"))\n",
    "\n",
    "fig.tight_layout()"
   ]
  },
  {
   "cell_type": "markdown",
   "id": "a550ec4f",
   "metadata": {},
   "source": [
    "State \"California\" generates highest Net Profit, and State \"Texas\" makes no profit, It has the highest loss rate."
   ]
  },
  {
   "cell_type": "code",
   "execution_count": 494,
   "id": "0f2ffcad",
   "metadata": {},
   "outputs": [
    {
     "data": {
      "text/plain": [
       "Region\n",
       "West       107114\n",
       "East        90640\n",
       "South       46198\n",
       "Central     39243\n",
       "Name: Profit, dtype: int32"
      ]
     },
     "execution_count": 494,
     "metadata": {},
     "output_type": "execute_result"
    }
   ],
   "source": [
    "#Profit by Region\n",
    "Region_profit = super_store1.groupby('Region').Profit.sum().sort_values(ascending = False)\n",
    "Region_profit"
   ]
  },
  {
   "cell_type": "code",
   "execution_count": 496,
   "id": "b1346c80",
   "metadata": {},
   "outputs": [
    {
     "data": {
      "image/png": "[encoded data removed]",
      "text/plain": [
       "<Figure size 360x360 with 1 Axes>"
      ]
     },
     "metadata": {
      "needs_background": "light"
     },
     "output_type": "display_data"
    }
   ],
   "source": [
    "#Plotting \n",
    "plt.figure(figsize = (5,5))\n",
    "plt.step(x= Region_profit.index, y = Region_profit);\n",
    "\n",
    "# setting the title for the data set\n",
    "plt.title('Total Profit by Region', fontsize=13,weight=(\"bold\"))\n",
    "# setting the y label\n",
    "plt.xlabel('Region', fontsize=10,weight=(\"bold\"))\n",
    "# setting the x label\n",
    "plt.ylabel('Profit', fontsize=10,weight=(\"bold\"))\n",
    "\n",
    "plt.show()\n"
   ]
  },
  {
   "cell_type": "markdown",
   "id": "765827dd",
   "metadata": {},
   "source": [
    "Region \"West\" generates highest Net Profit with Region \"Central\" having least Net profit generation."
   ]
  },
  {
   "cell_type": "markdown",
   "id": "318bba0f",
   "metadata": {},
   "source": [
    "#### Multivariate Analysis"
   ]
  },
  {
   "cell_type": "code",
   "execution_count": null,
   "id": "813c5d98",
   "metadata": {},
   "outputs": [],
   "source": [
    "#Which Product Category Generates Revenue and Net Profit most across segments, sub-category, year, ship mode and state?"
   ]
  },
  {
   "cell_type": "code",
   "execution_count": null,
   "id": "9de86861",
   "metadata": {},
   "outputs": [],
   "source": [
    "# Let's compare out comes between Sales and Profit of Category per Segment"
   ]
  },
  {
   "cell_type": "code",
   "execution_count": 518,
   "id": "3cbbf4a3",
   "metadata": {},
   "outputs": [
    {
     "name": "stdout",
     "output_type": "stream",
     "text": [
      "       Segment         Category   Sales\n",
      "0     Consumer        Furniture  390422\n",
      "1     Consumer  Office Supplies  362201\n",
      "2     Consumer       Technology  405707\n",
      "3    Corporate        Furniture  228648\n",
      "4    Corporate  Office Supplies  229663\n",
      "5    Corporate       Technology  246056\n",
      "6  Home Office        Furniture  121444\n",
      "7  Home Office  Office Supplies  123830\n",
      "8  Home Office       Technology  183052        Segment         Category  Profit\n",
      "0     Consumer        Furniture    6844\n",
      "1     Consumer  Office Supplies   55231\n",
      "2     Consumer       Technology   70401\n",
      "3    Corporate        Furniture    7480\n",
      "4    Corporate  Office Supplies   39573\n",
      "5    Corporate       Technology   43946\n",
      "6  Home Office        Furniture    3814\n",
      "7  Home Office  Office Supplies   25559\n",
      "8  Home Office       Technology   30347\n"
     ]
    }
   ],
   "source": [
    "#Grouping by segment and category per Sales.\n",
    "segment_and_category_S = super_store1.groupby([\"Segment\", \"Category\"], as_index=False).Sales.sum()\n",
    "\n",
    "#Grouping by segment and category per Profit.\n",
    "segment_and_category_P = super_store1.groupby([\"Segment\", \"Category\"], as_index=False).Profit.sum()\n",
    "\n",
    "print(segment_and_category_S, segment_and_category_P)"
   ]
  },
  {
   "cell_type": "code",
   "execution_count": 524,
   "id": "f304322a",
   "metadata": {},
   "outputs": [
    {
     "data": {
      "image/png": "[encoded data removed]",
      "text/plain": [
       "<Figure size 360x360 with 1 Axes>"
      ]
     },
     "metadata": {
      "needs_background": "light"
     },
     "output_type": "display_data"
    },
    {
     "data": {
      "image/png": "[encoded data removed]",
      "text/plain": [
       "<Figure size 360x360 with 1 Axes>"
      ]
     },
     "metadata": {
      "needs_background": "light"
     },
     "output_type": "display_data"
    }
   ],
   "source": [
    "#Plotting the profit per segment and using the category as hue to show the division of sales between the categories.\n",
    "plt.figure(figsize = [5,5])\n",
    "sns.barplot(x=segment_and_category_S[\"Segment\"], y=segment_and_category_S[\"Sales\"], hue=segment_and_category_S[\"Category\"])\n",
    "\n",
    "# setting the title for the data set\n",
    "plt.title('Revenue by Category Per Segment', fontsize=13,weight=(\"bold\"))\n",
    "# setting the y label\n",
    "plt.xlabel('Segment', fontsize=10,weight=(\"bold\"))\n",
    "# setting the x label\n",
    "plt.ylabel('Sales', fontsize=10,weight=(\"bold\"))\n",
    "\n",
    "\n",
    "#Plotting the profit per segment and using the category as hue to show the division of profit between the categories.\n",
    "plt.figure(figsize = [5,5])\n",
    "sns.barplot(x=segment_and_category_P[\"Segment\"], y=segment_and_category_P[\"Profit\"], hue=segment_and_category_P[\"Category\"])\n",
    "\n",
    "# setting the title for the data set\n",
    "plt.title('Net Profit by Category Per Segment', fontsize=13,weight=(\"bold\"))\n",
    "# setting the y label\n",
    "plt.xlabel('Segment', fontsize=10,weight=(\"bold\"))\n",
    "# setting the x label\n",
    "plt.ylabel('Profit', fontsize=10,weight=(\"bold\"))\n",
    "\n",
    "fig.tight_layout()"
   ]
  },
  {
   "cell_type": "markdown",
   "id": "adc9b2dd",
   "metadata": {},
   "source": [
    "Segment \"Consumer\" made the highest purchase, with Product Category \"Technology\" genenerating highest Revenue and Net Profit, though Product Category \"Furniture\" generate more revenue compared to \"Office Supplies, It generated the least Net Profit."
   ]
  },
  {
   "cell_type": "code",
   "execution_count": null,
   "id": "acc0445e",
   "metadata": {},
   "outputs": [],
   "source": [
    "# Let's compare out comes between Sales and Profit of Category per Sub-Category"
   ]
  },
  {
   "cell_type": "code",
   "execution_count": 523,
   "id": "89d9b6d8",
   "metadata": {},
   "outputs": [
    {
     "name": "stdout",
     "output_type": "stream",
     "text": [
      "   Sub-Category         Category   Sales\n",
      "0   Accessories       Technology  166856\n",
      "1    Appliances  Office Supplies  107266\n",
      "2           Art  Office Supplies   26685\n",
      "3       Binders  Office Supplies  202593\n",
      "4     Bookcases        Furniture  114728\n",
      "5        Chairs        Furniture  327816\n",
      "6       Copiers       Technology  149462\n",
      "7     Envelopes  Office Supplies   16326\n",
      "8     Fasteners  Office Supplies    2914\n",
      "9   Furnishings        Furniture   91172\n",
      "10       Labels  Office Supplies   12294\n",
      "11     Machines       Technology  189155\n",
      "12        Paper  Office Supplies   77675\n",
      "13       Phones       Technology  329342\n",
      "14      Storage  Office Supplies  223368\n",
      "15     Supplies  Office Supplies   46573\n",
      "16       Tables        Furniture  206798    Sub-Category         Category  Profit\n",
      "0   Accessories       Technology   41588\n",
      "1    Appliances  Office Supplies   17980\n",
      "2           Art  Office Supplies    6124\n",
      "3       Binders  Office Supplies   30088\n",
      "4     Bookcases        Furniture   -3478\n",
      "5        Chairs        Furniture   26532\n",
      "6       Copiers       Technology   55551\n",
      "7     Envelopes  Office Supplies    6824\n",
      "8     Fasteners  Office Supplies     855\n",
      "9   Furnishings        Furniture   12761\n",
      "10       Labels  Office Supplies    5350\n",
      "11     Machines       Technology    3375\n",
      "12        Paper  Office Supplies   33365\n",
      "13       Phones       Technology   44180\n",
      "14      Storage  Office Supplies   21017\n",
      "15     Supplies  Office Supplies   -1240\n",
      "16       Tables        Furniture  -17677\n"
     ]
    }
   ],
   "source": [
    "#Grouping by product subcategory and category per Sales.\n",
    "subcat_and_category_S = super_store1.groupby([\"Sub-Category\", \"Category\"], as_index=False).Sales.sum()\n",
    "\n",
    "#Grouping by product subcategory and category per Profit.\n",
    "subcat_and_category_P = super_store1.groupby([\"Sub-Category\", \"Category\"], as_index=False).Profit.sum()\n",
    "\n",
    "print(subcat_and_category_S, subcat_and_category_P)"
   ]
  },
  {
   "cell_type": "code",
   "execution_count": 525,
   "id": "9c3b2788",
   "metadata": {},
   "outputs": [
    {
     "data": {
      "image/png": "[encoded data removed]",
      "text/plain": [
       "<Figure size 360x360 with 1 Axes>"
      ]
     },
     "metadata": {
      "needs_background": "light"
     },
     "output_type": "display_data"
    },
    {
     "data": {
      "image/png": "[encoded data removed]",
      "text/plain": [
       "<Figure size 360x360 with 1 Axes>"
      ]
     },
     "metadata": {
      "needs_background": "light"
     },
     "output_type": "display_data"
    }
   ],
   "source": [
    "#Plotting the profit per subcategory and using the category as hue to show the division of sales between the categories.\n",
    "plt.figure(figsize = [5,5])\n",
    "sns.barplot(y=subcat_and_category_S[\"Sub-Category\"], x=subcat_and_category_S[\"Sales\"], hue=subcat_and_category_S[\"Category\"])\n",
    "\n",
    "# setting the title for the data set\n",
    "plt.title('Revenue by Category Per Sub-Category', fontsize=13,weight=(\"bold\"))\n",
    "# setting the y label\n",
    "plt.xlabel('Sales', fontsize=10,weight=(\"bold\"))\n",
    "# setting the x label\n",
    "plt.ylabel('Sub-Category', fontsize=10,weight=(\"bold\"))\n",
    "\n",
    "\n",
    "#Plotting the profit per subcategory and using the category as hue to show the division of profit between the categories.\n",
    "plt.figure(figsize = [5,5])\n",
    "sns.barplot(y=subcat_and_category_P[\"Sub-Category\"], x=subcat_and_category_P[\"Profit\"], hue=subcat_and_category_P[\"Category\"])\n",
    "\n",
    "# setting the title for the data set\n",
    "plt.title('Net Profit by Category Per Sub-Category', fontsize=13,weight=(\"bold\"))\n",
    "# setting the y label\n",
    "plt.xlabel('Profit', fontsize=10,weight=(\"bold\"))\n",
    "# setting the x label\n",
    "plt.ylabel('Sub-Category', fontsize=10,weight=(\"bold\"))\n",
    "\n",
    "fig.tight_layout()"
   ]
  },
  {
   "cell_type": "markdown",
   "id": "010c1119",
   "metadata": {},
   "source": [
    "Further splitting the Product category, \"Copiers\", generated the most revenue in the Technology Category and overall, and \"Tables and Bookcases\" under the Furniture category generated losses."
   ]
  },
  {
   "cell_type": "code",
   "execution_count": null,
   "id": "f9d88b4b",
   "metadata": {},
   "outputs": [],
   "source": [
    "#Let's discovered which Product Category Saled and yield highest Profit in each year"
   ]
  },
  {
   "cell_type": "code",
   "execution_count": 535,
   "id": "cc292c9d",
   "metadata": {},
   "outputs": [
    {
     "name": "stdout",
     "output_type": "stream",
     "text": [
      "    Year         Category   Sales\n",
      "0   2014        Furniture  156676\n",
      "1   2014  Office Supplies  151091\n",
      "2   2014       Technology  175015\n",
      "3   2015        Furniture  170261\n",
      "4   2015  Office Supplies  136549\n",
      "5   2015       Technology  162478\n",
      "6   2016        Furniture  198587\n",
      "7   2016  Office Supplies  183070\n",
      "8   2016       Technology  226038\n",
      "9   2017        Furniture  214990\n",
      "10  2017  Office Supplies  244984\n",
      "11  2017       Technology  271284     Year         Category  Profit\n",
      "0   2014        Furniture    5408\n",
      "1   2014  Office Supplies   22163\n",
      "2   2014       Technology   21354\n",
      "3   2015        Furniture    2933\n",
      "4   2015  Office Supplies   24686\n",
      "5   2015       Technology   33326\n",
      "6   2016        Furniture    6876\n",
      "7   2016  Office Supplies   34480\n",
      "8   2016       Technology   39599\n",
      "9   2017        Furniture    2921\n",
      "10  2017  Office Supplies   39034\n",
      "11  2017       Technology   50415\n"
     ]
    }
   ],
   "source": [
    "#Grouping by product year and category per Sales.\n",
    "year_and_category_S = super_store1.groupby([\"Year\", \"Category\"], as_index=False).Sales.sum()\n",
    "\n",
    "#Grouping by product year and category per Profit.\n",
    "year_and_category_P = super_store1.groupby([\"Year\", \"Category\"], as_index=False).Profit.sum()\n",
    "\n",
    "print(year_and_category_S, year_and_category_P)"
   ]
  },
  {
   "cell_type": "code",
   "execution_count": 536,
   "id": "d05eebb1",
   "metadata": {},
   "outputs": [
    {
     "data": {
      "image/png": "[encoded data removed]",
      "text/plain": [
       "<Figure size 360x360 with 1 Axes>"
      ]
     },
     "metadata": {
      "needs_background": "light"
     },
     "output_type": "display_data"
    },
    {
     "data": {
      "image/png": "[encoded data removed]",
      "text/plain": [
       "<Figure size 360x360 with 1 Axes>"
      ]
     },
     "metadata": {
      "needs_background": "light"
     },
     "output_type": "display_data"
    }
   ],
   "source": [
    "#Plotting the profit per year and using the category as hue to show the division of sales between the categories.\n",
    "plt.figure(figsize = [5,5])\n",
    "sns.barplot(y=year_and_category_S[\"Year\"], x=year_and_category_S[\"Sales\"], hue=year_and_category_S[\"Category\"], ci = None)\n",
    "\n",
    "# setting the title for the data set\n",
    "plt.title('Revenue by Category Per Year', fontsize=13,weight=(\"bold\"))\n",
    "# setting the y label\n",
    "plt.xlabel('Sales', fontsize=10,weight=(\"bold\"))\n",
    "# setting the x label\n",
    "plt.ylabel('Year', fontsize=10,weight=(\"bold\"))\n",
    "\n",
    "\n",
    "#Plotting the profit per year and using the category as hue to show the division of profit between the categories.\n",
    "plt.figure(figsize = [5,5])\n",
    "sns.barplot(y=year_and_category_P[\"Year\"], x=year_and_category_P[\"Profit\"], hue=year_and_category_P[\"Category\"], ci = None)\n",
    "\n",
    "# setting the title for the data set\n",
    "plt.title('Net Profit by Category Per Year', fontsize=13,weight=(\"bold\"))\n",
    "# setting the y label\n",
    "plt.xlabel('Profit', fontsize=10,weight=(\"bold\"))\n",
    "# setting the x label\n",
    "plt.ylabel('Year', fontsize=10,weight=(\"bold\"))\n",
    "\n",
    "fig.tight_layout()"
   ]
  },
  {
   "cell_type": "markdown",
   "id": "592b44cb",
   "metadata": {},
   "source": [
    "Category \"Technology\" generated highest Revenue and Net Profit across the Years, except for 2015 where \"Furniture\" generated highest Sales, nevertheless, It still generated the least Net profit."
   ]
  },
  {
   "cell_type": "code",
   "execution_count": null,
   "id": "69a45449",
   "metadata": {},
   "outputs": [],
   "source": [
    "# Let's compare out comes between Sales and Profit of Category per ship mode"
   ]
  },
  {
   "cell_type": "code",
   "execution_count": null,
   "id": "309efee8",
   "metadata": {},
   "outputs": [],
   "source": [
    "#Grouping by product ship mode and category per Sales.\n",
    "year_and_category_S = super_store1.groupby([\"Year\", \"Category\"], as_index=False).Sales.sum()\n",
    "\n",
    "#Grouping by product year and category per Profit.\n",
    "year_and_category_P = super_store1.groupby([\"Year\", \"Category\"], as_index=False).Profit.sum()\n",
    "\n",
    "print(year_and_category_S, year_and_category_P)"
   ]
  },
  {
   "cell_type": "code",
   "execution_count": 538,
   "id": "c8e4d452",
   "metadata": {},
   "outputs": [
    {
     "data": {
      "image/png": "[encoded data removed]",
      "text/plain": [
       "<Figure size 360x360 with 1 Axes>"
      ]
     },
     "metadata": {
      "needs_background": "light"
     },
     "output_type": "display_data"
    },
    {
     "data": {
      "image/png": "[encoded data removed]",
      "text/plain": [
       "<Figure size 360x360 with 1 Axes>"
      ]
     },
     "metadata": {
      "needs_background": "light"
     },
     "output_type": "display_data"
    }
   ],
   "source": [
    "#Plotting the profit per ship mode and using the category as hue to show the division of sales between the categories.\n",
    "plt.figure(figsize = [5,5])\n",
    "sns.barplot(y=shipM_and_category_S[\"Sales\"], x=shipM_and_category_S[\"Ship Mode\"], hue=shipM_and_category_S[\"Category\"], ci = None)\n",
    "\n",
    "# setting the title for the data set\n",
    "plt.title('Revenue by Category Per Ship Mode', fontsize=13,weight=(\"bold\"))\n",
    "# setting the y label\n",
    "plt.xlabel('Ship Mode', fontsize=10,weight=(\"bold\"))\n",
    "# setting the x label\n",
    "plt.ylabel('Sales', fontsize=10,weight=(\"bold\"))\n",
    "\n",
    "\n",
    "#Plotting the profit per ship mode and using the category as hue to show the division of profit between the categories.\n",
    "plt.figure(figsize = [5,5])\n",
    "sns.barplot(y=shipM_and_category_P[\"Profit\"], x=shipM_and_category_P[\"Ship Mode\"], hue=shipM_and_category_P[\"Category\"], ci = None)\n",
    "\n",
    "# setting the title for the data set\n",
    "plt.title('Net Profit by Category Per Ship Mode', fontsize=13,weight=(\"bold\"))\n",
    "# setting the y label\n",
    "plt.xlabel('Ship Mode', fontsize=10,weight=(\"bold\"))\n",
    "# setting the x label\n",
    "plt.ylabel('Profit', fontsize=10,weight=(\"bold\"))\n",
    "\n",
    "fig.tight_layout()"
   ]
  },
  {
   "cell_type": "code",
   "execution_count": null,
   "id": "9b0a5f2c",
   "metadata": {},
   "outputs": [],
   "source": [
    "# Let's compare out comes between Sales and Profit of Category per State"
   ]
  },
  {
   "cell_type": "code",
   "execution_count": 557,
   "id": "9d68fe36",
   "metadata": {},
   "outputs": [
    {
     "name": "stdout",
     "output_type": "stream",
     "text": [
      "          State         Category   Sales\n",
      "11   California       Technology  159020\n",
      "9    California        Furniture  155824\n",
      "10   California  Office Supplies  141649\n",
      "92     New York       Technology  127319\n",
      "90     New York        Furniture   93237\n",
      "91     New York  Office Supplies   89622\n",
      "123       Texas       Technology   64982\n",
      "121       Texas        Furniture   60489\n",
      "135  Washington       Technology   50468\n",
      "133  Washington        Furniture   47950           State         Category  Profit\n",
      "92     New York       Technology   42068\n",
      "10   California  Office Supplies   37148\n",
      "11   California       Technology   29280\n",
      "91     New York  Office Supplies   25655\n",
      "135  Washington       Technology   14966\n",
      "61     Michigan  Office Supplies   14926\n",
      "134  Washington  Office Supplies   11047\n",
      "38      Indiana       Technology   10984\n",
      "28      Georgia  Office Supplies    9739\n",
      "9    California        Furniture    9038\n"
     ]
    }
   ],
   "source": [
    "#Grouping by product ship mode and category per Sales.\n",
    "state_and_category_S = super_store1.groupby([\"State\", \"Category\"], as_index=False).Sales.sum().sort_values(\"Sales\", ascending = False)[:10]\n",
    "\n",
    "#Grouping by product year and category per Profit.\n",
    "state_and_category_P = super_store1.groupby([\"State\", \"Category\"], as_index=False).Profit.sum().sort_values(\"Profit\",ascending = False)[:10]\n",
    "\n",
    "print(state_and_category_S, state_and_category_P)"
   ]
  },
  {
   "cell_type": "code",
   "execution_count": 560,
   "id": "507ffe33",
   "metadata": {},
   "outputs": [
    {
     "data": {
      "image/png": "[encoded data removed]",
      "text/plain": [
       "<Figure size 360x360 with 1 Axes>"
      ]
     },
     "metadata": {
      "needs_background": "light"
     },
     "output_type": "display_data"
    },
    {
     "data": {
      "image/png": "[encoded data removed]",
      "text/plain": [
       "<Figure size 360x360 with 1 Axes>"
      ]
     },
     "metadata": {
      "needs_background": "light"
     },
     "output_type": "display_data"
    }
   ],
   "source": [
    "#Plotting the profit per state and using the category as hue to show the division of sales between the categories.\n",
    "plt.figure(figsize = [5,5])\n",
    "sns.barplot(y=state_and_category_S[\"State\"], x=state_and_category_S[\"Sales\"], hue=state_and_category_S[\"Category\"], ci = None)\n",
    "\n",
    "# setting the title for the data set\n",
    "plt.title('Revenue by Category Per State', fontsize=13,weight=(\"bold\"))\n",
    "# setting the y label\n",
    "plt.xlabel('Sales', fontsize=10,weight=(\"bold\"))\n",
    "# setting the x label\n",
    "plt.ylabel('States', fontsize=10,weight=(\"bold\"))\n",
    "\n",
    "\n",
    "#Plotting the profit per state and using the category as hue to show the division of profit between the categories.\n",
    "plt.figure(figsize = [5,5])\n",
    "sns.barplot(y=state_and_category_P[\"State\"], x=state_and_category_P[\"Profit\"], hue=state_and_category_P[\"Category\"], ci = None)\n",
    "\n",
    "# setting the title for the data set\n",
    "plt.title('Net Profit by Category Per State', fontsize=13,weight=(\"bold\"))\n",
    "# setting the y label\n",
    "plt.xlabel('Profit', fontsize=10,weight=(\"bold\"))\n",
    "# setting the x label\n",
    "plt.ylabel('States', fontsize=10,weight=(\"bold\"))\n",
    "\n",
    "fig.tight_layout()"
   ]
  },
  {
   "cell_type": "markdown",
   "id": "c066cf30",
   "metadata": {},
   "source": [
    "Product Category 'Technology' generated highest revenue and net profit across the top 6 states, except for \"California\" where the highest Net profit was generated from 'Office Supplies'."
   ]
  },
  {
   "cell_type": "code",
   "execution_count": 526,
   "id": "0506c5e8",
   "metadata": {},
   "outputs": [
    {
     "data": {
      "text/plain": [
       "Text(0.5, 1.0, 'Correlations between Sales, Quantity, Profit and Discount')"
      ]
     },
     "execution_count": 526,
     "metadata": {},
     "output_type": "execute_result"
    },
    {
     "data": {
      "image/png": "[encoded data removed]",
      "text/plain": [
       "<Figure size 360x360 with 2 Axes>"
      ]
     },
     "metadata": {
      "needs_background": "light"
     },
     "output_type": "display_data"
    }
   ],
   "source": [
    "#view of relationships between column(sales,quantity, profit, discount)\n",
    "plt.figure(figsize=(5,5))\n",
    "sns.heatmap(super_store1.corr(),annot=True)\n",
    "plt.title('Correlations between Sales, Quantity, Profit and Discount', fontsize=13,weight=(\"bold\"))"
   ]
  },
  {
   "cell_type": "markdown",
   "id": "0a838faf",
   "metadata": {},
   "source": [
    "In the dataset, It is observed that there is no strong relationship between variables, and the only medium relationship is between \"Sales\" and \"Profit\", meaning that, the raise in sales may lead to the raise in profit."
   ]
  },
  {
   "cell_type": "code",
   "execution_count": null,
   "id": "34e2864f",
   "metadata": {},
   "outputs": [],
   "source": []
  },
  {
   "attachments": {},
   "cell_type": "markdown",
   "id": "59bde284",
   "metadata": {},
   "source": [
    "# Summary\n",
    "\n",
    "In this markdown cell, summarize your list of findings.\n",
    "\n",
    "1. Their most and least profitable product categories (“Technology” and “Furniture” product respectively)\n",
    "2. Segment analysis of sales and profit (“Consumer” segment generated highest Profit and Revenue)\n",
    "3. Geographical analysis of sales and profit (State “California” and Region “West” generated highest Profit)\n"
   ]
  },
  {
   "cell_type": "code",
   "execution_count": null,
   "id": "650df4c1",
   "metadata": {},
   "outputs": [],
   "source": []
  }
 ],
 "metadata": {
  "kernelspec": {
   "display_name": "Python 3 (ipykernel)",
   "language": "python",
   "name": "python3"
  },
  "language_info": {
   "codemirror_mode": {
    "name": "ipython",
    "version": 3
   },
   "file_extension": ".py",
   "mimetype": "text/x-python",
   "name": "python",
   "nbconvert_exporter": "python",
   "pygments_lexer": "ipython3",
   "version": "3.9.12"
  }
 },
 "nbformat": 4,
 "nbformat_minor": 5
}
